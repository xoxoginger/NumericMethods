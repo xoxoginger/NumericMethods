{
 "cells": [
  {
   "cell_type": "markdown",
   "metadata": {},
   "source": [
    "# Курсовой проект по дисциплине \"Численные методы\"\n",
    "# Тема: \"Метод бисопряженных градиентов.\"\n",
    "\n",
    "## Подготовила студентка группы М8О-307 Алексюнина Юлия\n",
    "## Руководитель: Ревизников Д.Л."
   ]
  },
  {
   "cell_type": "markdown",
   "metadata": {},
   "source": [
    "### Постановка задачи\n",
    "\n",
    "Реализовать решение систем линейных алгебраических уравнений с \n",
    "несимметричными разреженными матрицами большой размерности методом бисопряженных градиентов.\n"
   ]
  },
  {
   "cell_type": "markdown",
   "metadata": {},
   "source": [
    "### Описание метода\n",
    "\n",
    "    Создадим случайную матрицу, поставим плотность (density) = 0.6, таким образом, наша матрица будет на 40% состоять из нулей. Остальные значения будут находиться в диапазоне от 0 до 1. Можно выбрать размер матрицы от 4 до n.\n",
    "\n",
    "    Рассмотрим СЛАУ с вещественными коэффициентами(Ax=b). В основу алгоритма ложится идея проекционного метода и использование свойства A-бисопряженности системы векторов, а именно: векторы  p – невязки бисопряжённые, если скалярные произведения (Api,pj)=0, (Api,pj)=0. Фактически, данное условие эквивалентно биортогональности относительно энергетического скалярного произведения.\n",
    "    \n",
    "    Общая концепция проекционных методов предписывает нам выбрать два подпространства. В нашем случае подпространства мы выберем два подпространства, задаваемые матрицей системы А, вектором невязки на нулевой итерации.\n",
    "\n",
    "    Метод основан на построении биортогонального базиса p пространства  K_k(A,r0) K_k(A,r0) и вычислении поправки такой, что новое приближение на очередной итерации было бы ортогонально второму подпространству Крылова. Базисные вектора строятся до тех пор, пока не будет достигнут критерий остановки итерационного процесса, а каждое последующее приближение формируется, как сумма приближения на предыдущей итерации и найденной поправки. \n",
    "    \n",
    "    Критерием останова итерационного процесса является достижение невязкой значения, которое меньше некоторого наперед заданного эпсилон.\n"
   ]
  },
  {
   "cell_type": "markdown",
   "metadata": {},
   "source": [
    "### Пример теста\n",
    "\n",
    "![Тест11](https://sun9-68.userapi.com/impf/CH6PryquaKlefjV4ZO4e50egfe9txRQ5Q6mlrw/Jq6Ae8i7uD4.jpg?size=663x484&quality=96&proxy=1&sign=a27eb9cb1438c9179bd2f88689d89c5c&type=album)\n",
    "![Тест12](https://sun9-14.userapi.com/impf/QNFww4YgWiYQl6twpot8RiAoUTvpNKPcdjz3AQ/UwFWcfN8lOs.jpg?size=485x258&quality=96&proxy=1&sign=da2c866595ca418d161b57a5151c239d&type=album)"
   ]
  },
  {
   "cell_type": "markdown",
   "metadata": {},
   "source": [
    "### Решение\n",
    "\n",
    "#### Генерация матрицы. \n",
    "Импортируем необходимые библиотеки.\n"
   ]
  },
  {
   "cell_type": "code",
   "execution_count": 6,
   "metadata": {},
   "outputs": [],
   "source": [
    "import numpy as np\n",
    "from random import randint\n",
    "from scipy.sparse import rand\n",
    "import numpy as np\n",
    "from numpy.linalg import norm\n",
    "from scipy.sparse import diags, csc_matrix\n",
    "from scipy.sparse.linalg import bicgstab, spilu "
   ]
  },
  {
   "cell_type": "markdown",
   "metadata": {},
   "source": [
    "Сгенерируем матрицу заданного размера с плотностью 0.6 и вектор правой части."
   ]
  },
  {
   "cell_type": "code",
   "execution_count": 7,
   "metadata": {},
   "outputs": [
    {
     "name": "stdout",
     "output_type": "stream",
     "text": [
      "16\n",
      "0.449  0.606  0.22  0.418  0.0  0.0  0.0  0.0  0.327  0.304  0.53  0.0  0.006  0.493  0.182  0.0  \n",
      "\n",
      "0.0  0.0  0.198  0.208  0.0  0.0  0.928  0.0  0.0  0.002  0.0  0.37  0.0  0.0  0.762  0.0  \n",
      "\n",
      "0.0  0.0  0.87  0.0  0.382  0.806  0.961  0.348  0.0  0.416  0.0  0.0  0.0  0.868  0.412  0.983  \n",
      "\n",
      "0.928  0.962  0.0  0.0  0.202  0.0  0.0  0.448  0.307  0.0  0.0  0.0  0.0  0.396  0.0  0.265  \n",
      "\n",
      "0.0  0.971  0.731  0.0  0.752  0.586  0.866  0.0  0.861  0.0  0.847  0.134  0.243  0.0  0.065  0.0  \n",
      "\n",
      "0.389  0.64  0.819  0.0  0.0  0.964  0.94  0.724  0.618  0.077  0.0  0.9  0.74  0.782  0.0  0.0  \n",
      "\n",
      "0.7  0.54  0.063  0.821  0.052  0.96  0.853  0.0  0.0  0.0  0.0  0.247  0.0  0.399  0.213  0.49  \n",
      "\n",
      "0.91  0.986  0.791  0.859  0.754  0.093  0.077  0.0  0.447  0.214  0.0  0.0  0.218  0.153  0.69  0.0  \n",
      "\n",
      "0.0  0.0  0.381  0.0  0.0  0.967  1.0  0.61  0.574  0.0  0.639  0.0  0.0  0.443  0.748  0.576  \n",
      "\n",
      "0.0  0.0  0.953  0.59  0.32  0.384  0.0  0.0  0.805  0.951  0.0  0.67  0.616  0.741  0.0  0.306  \n",
      "\n",
      "0.927  0.0  0.0  0.72  0.152  0.0  0.288  0.357  0.597  0.907  0.0  0.214  0.579  0.0  0.689  0.795  \n",
      "\n",
      "0.0  0.937  0.627  0.385  0.173  0.06  0.0  0.157  0.0  0.0  0.74  0.681  0.0  0.0  0.0  0.0  \n",
      "\n",
      "0.0  0.793  0.356  0.875  0.0  0.0  0.659  0.214  0.0  0.429  0.287  0.356  0.0  0.0  0.646  0.0  \n",
      "\n",
      "0.216  0.013  0.454  0.0  0.715  0.0  0.327  0.0  0.0  0.0  0.0  0.855  0.0  0.513  0.354  0.34  \n",
      "\n",
      "0.622  0.0  0.0  0.714  0.291  0.701  0.106  0.533  0.441  0.736  0.842  0.0  0.785  0.237  0.108  0.369  \n",
      "\n",
      "0.177  0.045  0.0  0.298  0.685  0.0  0.0  0.0  0.0  0.381  0.0  0.501  0.0  0.585  0.416  0.0  \n",
      "\n",
      "\n",
      "\n",
      "17  29  8  33  24  20  14  21  21  19  18  14  7  5  28  19  \n",
      "\n",
      "<class 'scipy.sparse.coo.coo_matrix'>\n"
     ]
    }
   ],
   "source": [
    "shape = int(input())\n",
    "if shape < 3:\n",
    "        exit()\n",
    "\n",
    "matrix = rand(shape, shape, density=0.6, random_state=randint(112, 154))\n",
    "\n",
    "\n",
    "for i in matrix.toarray().round(3):\n",
    "    for j in i:\n",
    "        print(f'{j} ', end=\" \")\n",
    "    print('\\n')\n",
    "print('\\n')\n",
    "b = np.random.randint(5, 53, shape)\n",
    "for i in b:\n",
    "    print(f'{i} ', end=\" \")\n",
    "print('\\n')\n",
    "print(type(matrix))"
   ]
  },
  {
   "cell_type": "markdown",
   "metadata": {},
   "source": [
    "#### Реализация алгоритма"
   ]
  },
  {
   "cell_type": "markdown",
   "metadata": {},
   "source": [
    "![Алгоритм](https://sun9-31.userapi.com/impf/eB8P4H6U7fR28U9YD9XuwvE1emlksS9FQhuEfg/zalHp3WbPW0.jpg?size=370x441&quality=96&proxy=1&sign=dc07ec63bc662226176c3a6a42efafc0)"
   ]
  },
  {
   "cell_type": "markdown",
   "metadata": {},
   "source": [
    "Критерий остановки итерационного процесса: норма заданной невязки меньше эпсилон."
   ]
  },
  {
   "cell_type": "markdown",
   "metadata": {},
   "source": [
    "Представим исходную матрицу в виде сжатой матрицы разреженных столбцов."
   ]
  },
  {
   "cell_type": "code",
   "execution_count": 8,
   "metadata": {},
   "outputs": [],
   "source": [
    "matrix = csc_matrix(matrix)"
   ]
  },
  {
   "cell_type": "markdown",
   "metadata": {},
   "source": [
    "Создадим класс BiCGMethod, в котором реализуем несколько методов. \n",
    "    __init__ - для инициализации необходимых данных;\n",
    "    solve - подготовка перед итерационным процессом и сам процесс решения;\n",
    "    print_solution - печать результата и сравнение его с решением при помощи функций встроенной библиотеки Numpy"
   ]
  },
  {
   "cell_type": "code",
   "execution_count": 9,
   "metadata": {},
   "outputs": [],
   "source": [
    "class BiCGMethod:\n",
    "    def __init__(self, matrix, b, x0=None, eps=1e-5):\n",
    "        self.matrix = matrix\n",
    "        self.b = b\n",
    "        self.eps = eps\n",
    "        self.shape = matrix.shape[0]\n",
    "        self.x0 = np.array([0] * self.shape) if x0 is None else x0\n",
    "        self.k = 0\n",
    "        \n",
    "    def solve(self):\n",
    "        r0 = self.b - self.matrix @ self.x0 # невязка\n",
    "        x0 = self.x0 # начальное приближение\n",
    "        r2 = r0 # выбирается вектор\n",
    "        rho0 = 1\n",
    "        alpha0 = 1\n",
    "        omega0 = 1\n",
    "        v0 = np.array([0] * self.shape)\n",
    "        p0 = np.array([0] * self.shape)\n",
    "        while True:\n",
    "            rho = r2 @ r0\n",
    "            beta = (rho * alpha0) / (rho0 * omega0)\n",
    "            p = r0 + beta * (p0 - omega0 * v0)\n",
    "            v = self.matrix @ p\n",
    "            alpha = rho / (r2 @ v)\n",
    "            s = r0 - alpha * v\n",
    "            t = self.matrix @ s\n",
    "            omega = (t @ s) / (t @ t)\n",
    "            x = x0 + omega * s + alpha * p\n",
    "            r = s - omega * t\n",
    "\n",
    "\n",
    "            self.k += 1\n",
    "            if norm(r) < self.eps: # норма заданной невязки\n",
    "                break\n",
    "            r0 = r\n",
    "            rho0 = rho\n",
    "            alpha0 = alpha\n",
    "            omega0 = omega\n",
    "            v0 = v\n",
    "            p0 = p\n",
    "            x0 = x\n",
    "        return x\n",
    "    \n",
    "    def print_solution(self):\n",
    "        x = self.solve()\n",
    "        x2 = np.linalg.solve(self.matrix.toarray(), self.b)\n",
    "        # with open(self.output, 'w') as f:\n",
    "        print('My solve:\\n')\n",
    "        print(f'{x.round(5)}\\n')\n",
    "        print(f'EPS = {self.eps}\\n')\n",
    "        print(f'Shape = {self.shape}\\n')\n",
    "        print(f'Count of iterations = {self.k}\\n')\n",
    "        # print(f'Mean = {np.mean(x)}\\n') # среднее\n",
    "        print('\\nNumPy solve:\\n')\n",
    "        print(f'{x2.round(5)}\\n')\n",
    "        # print(f'Mean = {np.mean(x2)}\\n')\n"
   ]
  },
  {
   "cell_type": "markdown",
   "metadata": {},
   "source": [
    "Наконец, сделаем расчет."
   ]
  },
  {
   "cell_type": "code",
   "execution_count": 10,
   "metadata": {},
   "outputs": [
    {
     "name": "stdout",
     "output_type": "stream",
     "text": [
      "My solve:\n",
      "\n",
      "[ 1004.38337  -717.99638   611.83009  -160.23214    83.38022   287.43935\n",
      "   347.21342   561.81247   106.93063  1022.62429    87.64077   263.69304\n",
      " -1724.79793  -674.58601  -631.29276  -912.37142]\n",
      "\n",
      "EPS = 1e-05\n",
      "\n",
      "Shape = 16\n",
      "\n",
      "Count of iterations = 35\n",
      "\n",
      "\n",
      "NumPy solve:\n",
      "\n",
      "[ 1004.38336  -717.99638   611.83009  -160.23213    83.38022   287.43935\n",
      "   347.21342   561.81247   106.93063  1022.62427    87.64077   263.69303\n",
      " -1724.79792  -674.58601  -631.29276  -912.37141]\n",
      "\n"
     ]
    }
   ],
   "source": [
    "solver = BiCGMethod(matrix, b, eps=1e-5)\n",
    "solver.print_solution()"
   ]
  },
  {
   "cell_type": "markdown",
   "metadata": {},
   "source": [
    "### Вывод\n",
    "В ходе данной лабораторной работы был изучен алгоритм бисопряженных градиентов. Этот алгоритм хорошо зарекомендовал себя для решения систем линейных алгебраический уравнений, поскольку обладает некоторыми важными свойствами: он численно устойчив; не меняется вид матрицы в процессе решения; эффективен для решения систем большой размерности с разреженной матрицей, поскольку в методе самая трудоемкая операция - умножение матрицы на вектор; применим для решения систем с несимметричными матрицами. Вычислительная мощность:  N/4"
   ]
  }
 ],
 "metadata": {
  "kernelspec": {
   "display_name": "Python 3",
   "language": "python",
   "name": "python3"
  },
  "language_info": {
   "codemirror_mode": {
    "name": "ipython",
    "version": 3
   },
   "file_extension": ".py",
   "mimetype": "text/x-python",
   "name": "python",
   "nbconvert_exporter": "python",
   "pygments_lexer": "ipython3",
   "version": "3.7.2"
  }
 },
 "nbformat": 4,
 "nbformat_minor": 4
}
