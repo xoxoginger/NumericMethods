{
 "cells": [
  {
   "cell_type": "markdown",
   "metadata": {},
   "source": [
    "# Курсовой проект по дисциплине \"Численные методы\"\n",
    "# Тема: \"Метод бисопряженных градиентов.\"\n",
    "\n",
    "## Подготовила студентка группы М8О-307 Алексюнина Юлия\n",
    "## Руководитель: Ревизников Д.Л."
   ]
  },
  {
   "cell_type": "markdown",
   "metadata": {},
   "source": [
    "### Постановка задачи\n",
    "\n",
    "Реализовать решение систем линейных алгебраических уравнений с \n",
    "несимметричными разреженными матрицами большой размерности методом бисопряженных градиентов.\n"
   ]
  },
  {
   "cell_type": "markdown",
   "metadata": {},
   "source": [
    "### Описание метода\n",
    "\n",
    "    Создадим случайную матрицу, поставим плотность (density) = 0.6, таким образом, наша матрица будет на 40% состоять из нулей. Остальные значения будут находиться в диапазоне от 0 до 1. Можно выбрать размер матрицы от 4 до n.\n",
    "\n",
    "    Рассмотрим СЛАУ с вещественными коэффициентами(Ax=b). В основу алгоритма ложится идея проекционного метода и использование свойства A-бисопряженности системы векторов, а именно: векторы  p – невязки бисопряжённые, если скалярные произведения (Api,pj)=0, (Api,pj)=0. Фактически, данное условие эквивалентно биортогональности относительно энергетического скалярного произведения.\n",
    "    \n",
    "    Общая концепция проекционных методов предписывает нам выбрать два подпространства. В нашем случае подпространства мы выберем два подпространства, задаваемые матрицей системы А, вектором невязки на нулевой итерации.\n",
    "\n",
    "    Метод основан на построении биортогонального базиса p пространства  K_k(A,r0) K_k(A,r0) и вычислении поправки такой, что новое приближение на очередной итерации было бы ортогонально второму подпространству Крылова. Базисные вектора строятся до тех пор, пока не будет достигнут критерий остановки итерационного процесса, а каждое последующее приближение формируется, как сумма приближения на предыдущей итерации и найденной поправки. \n",
    "    \n",
    "    Критерием останова итерационного процесса является достижение невязкой значения, которое меньше некоторого наперед заданного эпсилон.\n"
   ]
  },
  {
   "cell_type": "markdown",
   "metadata": {},
   "source": [
    "### Пример теста\n",
    "\n",
    "![Тест11](https://sun9-68.userapi.com/impf/CH6PryquaKlefjV4ZO4e50egfe9txRQ5Q6mlrw/Jq6Ae8i7uD4.jpg?size=663x484&quality=96&proxy=1&sign=a27eb9cb1438c9179bd2f88689d89c5c&type=album)\n",
    "![Тест12](https://sun9-14.userapi.com/impf/QNFww4YgWiYQl6twpot8RiAoUTvpNKPcdjz3AQ/UwFWcfN8lOs.jpg?size=485x258&quality=96&proxy=1&sign=da2c866595ca418d161b57a5151c239d&type=album)"
   ]
  },
  {
   "cell_type": "markdown",
   "metadata": {},
   "source": [
    "### Решение\n",
    "\n",
    "#### Генерация матрицы. \n",
    "Импортируем необходимые библиотеки.\n"
   ]
  },
  {
   "cell_type": "code",
   "execution_count": 11,
   "metadata": {},
   "outputs": [],
   "source": [
    "import numpy as np\n",
    "from random import randint\n",
    "from scipy.sparse import rand\n",
    "import numpy as np\n",
    "from numpy.linalg import norm\n",
    "from scipy.sparse import diags, csc_matrix\n",
    "from scipy.sparse.linalg import bicgstab, spilu "
   ]
  },
  {
   "cell_type": "markdown",
   "metadata": {},
   "source": [
    "Сгенерируем матрицу заданного размера с плотностью 0.6 и вектор правой части."
   ]
  },
  {
   "cell_type": "code",
   "execution_count": 12,
   "metadata": {},
   "outputs": [
    {
     "name": "stdout",
     "output_type": "stream",
     "text": [
      "10\n",
      "0.0  0.465  0.0  0.0  0.0  0.052  0.201  0.0  0.368  0.567  \n",
      "\n",
      "0.151  0.036  0.609  0.0  0.229  0.72  0.977  0.592  0.0  0.809  \n",
      "\n",
      "0.867  0.64  0.378  0.607  0.33  0.0  0.0  0.087  0.618  0.508  \n",
      "\n",
      "0.846  0.0  0.736  0.0  0.163  0.972  0.0  0.0  0.0  0.087  \n",
      "\n",
      "0.611  0.327  0.0  0.0  0.375  0.0  0.0  0.246  0.183  0.0  \n",
      "\n",
      "0.506  0.004  0.0  0.0  0.744  0.269  0.991  0.0  0.0  0.0  \n",
      "\n",
      "0.0  0.187  0.146  0.23  0.0  0.046  0.0  0.23  0.0  0.0  \n",
      "\n",
      "0.0  0.648  0.923  0.89  0.0  0.159  0.457  0.0  0.0  0.657  \n",
      "\n",
      "0.846  0.915  0.0  0.505  0.136  0.0  0.006  0.005  0.0  0.181  \n",
      "\n",
      "0.083  0.156  0.0  0.0  0.895  0.549  0.0  0.901  0.583  0.0  \n",
      "\n",
      "\n",
      "\n",
      "23  27  23  52  13  22  43  42  20  30  \n",
      "\n",
      "<class 'scipy.sparse.coo.coo_matrix'>\n"
     ]
    }
   ],
   "source": [
    "shape = int(input())\n",
    "if shape < 3:\n",
    "        exit()\n",
    "\n",
    "matrix = rand(shape, shape, density=0.6, random_state=randint(112, 154))\n",
    "\n",
    "\n",
    "for i in matrix.toarray().round(3):\n",
    "    for j in i:\n",
    "        print(f'{j} ', end=\" \")\n",
    "    print('\\n')\n",
    "print('\\n')\n",
    "b = np.random.randint(5, 53, shape)\n",
    "for i in b:\n",
    "    print(f'{i} ', end=\" \")\n",
    "print('\\n')\n",
    "print(type(matrix))"
   ]
  },
  {
   "cell_type": "markdown",
   "metadata": {},
   "source": [
    "#### Реализация алгоритма"
   ]
  },
  {
   "cell_type": "markdown",
   "metadata": {},
   "source": [
    "![Алгоритм](https://sun9-31.userapi.com/impf/eB8P4H6U7fR28U9YD9XuwvE1emlksS9FQhuEfg/zalHp3WbPW0.jpg?size=370x441&quality=96&proxy=1&sign=dc07ec63bc662226176c3a6a42efafc0)"
   ]
  },
  {
   "cell_type": "markdown",
   "metadata": {},
   "source": [
    "Критерий остановки итерационного процесса: норма заданной невязки меньше эпсилон."
   ]
  },
  {
   "cell_type": "markdown",
   "metadata": {},
   "source": [
    "Представим исходную матрицу в виде сжатой матрицы разреженных столбцов."
   ]
  },
  {
   "cell_type": "code",
   "execution_count": 13,
   "metadata": {},
   "outputs": [],
   "source": [
    "matrix = csc_matrix(matrix)"
   ]
  },
  {
   "cell_type": "markdown",
   "metadata": {},
   "source": [
    "Создадим класс BiCGMethod, в котором реализуем несколько методов. \n",
    "    __init__ - для инициализации необходимых данных;\n",
    "    solve - подготовка перед итерационным процессом и сам процесс решения;\n",
    "    print_solution - печать результата и сравнение его с решением при помощи функций встроенной библиотеки Numpy"
   ]
  },
  {
   "cell_type": "code",
   "execution_count": 14,
   "metadata": {},
   "outputs": [],
   "source": [
    "class BiCGMethod:\n",
    "    def __init__(self, matrix, b, x0=None, eps=1e-5):\n",
    "        self.matrix = matrix\n",
    "        self.b = b\n",
    "        self.eps = eps\n",
    "        self.shape = matrix.shape[0]\n",
    "        self.x0 = np.array([0] * self.shape) if x0 is None else x0\n",
    "        self.k = 0\n",
    "        \n",
    "    def solve(self):\n",
    "        r0 = self.b - self.matrix @ self.x0 # невязка\n",
    "        x0 = self.x0 # начальное приближение\n",
    "        r2 = r0 # выбирается вектор\n",
    "        rho0 = 1\n",
    "        alpha0 = 1\n",
    "        omega0 = 1\n",
    "        v0 = np.array([0] * self.shape)\n",
    "        p0 = np.array([0] * self.shape)\n",
    "        while True:\n",
    "            rho = r2 @ r0\n",
    "            beta = (rho * alpha0) / (rho0 * omega0)\n",
    "            p = r0 + beta * (p0 - omega0 * v0)\n",
    "            v = self.matrix @ p\n",
    "            alpha = rho / (r2 @ v)\n",
    "            s = r0 - alpha * v\n",
    "            t = self.matrix @ s\n",
    "            omega = (t @ s) / (t @ t)\n",
    "            x = x0 + omega * s + alpha * p\n",
    "            r = s - omega * t\n",
    "\n",
    "\n",
    "            self.k += 1\n",
    "            if norm(r) < self.eps: # норма заданной невязки\n",
    "                break\n",
    "            r0 = r\n",
    "            rho0 = rho\n",
    "            alpha0 = alpha\n",
    "            omega0 = omega\n",
    "            v0 = v\n",
    "            p0 = p\n",
    "            x0 = x\n",
    "        return x\n",
    "    \n",
    "    def print_solution(self):\n",
    "        x = self.solve()\n",
    "        x2 = np.linalg.solve(self.matrix.toarray(), self.b)\n",
    "        # with open(self.output, 'w') as f:\n",
    "        print('My solve:\\n')\n",
    "        print(f'{x.round(5)}\\n')\n",
    "        print(f'EPS = {self.eps}\\n')\n",
    "        print(f'Shape = {self.shape}\\n')\n",
    "        print(f'Count of iterations = {self.k}\\n')\n",
    "        # print(f'Mean = {np.mean(x)}\\n') # среднее\n",
    "        print('\\nNumPy solve:\\n')\n",
    "        print(f'{x2.round(5)}\\n')\n",
    "        # print(f'Mean = {np.mean(x2)}\\n')\n"
   ]
  },
  {
   "cell_type": "markdown",
   "metadata": {},
   "source": [
    "Наконец, сделаем расчет."
   ]
  },
  {
   "cell_type": "code",
   "execution_count": 15,
   "metadata": {},
   "outputs": [
    {
     "name": "stdout",
     "output_type": "stream",
     "text": [
      "My solve:\n",
      "\n",
      "[  -1.52111  124.80777   88.01166  -34.88747 -212.07618   47.51687\n",
      "  168.77658   55.19391  213.7142  -264.70185]\n",
      "\n",
      "EPS = 1e-05\n",
      "\n",
      "Shape = 10\n",
      "\n",
      "Count of iterations = 12\n",
      "\n",
      "\n",
      "NumPy solve:\n",
      "\n",
      "[  -1.52111  124.80777   88.01166  -34.88747 -212.07619   47.51687\n",
      "  168.77658   55.19391  213.7142  -264.70185]\n",
      "\n"
     ]
    }
   ],
   "source": [
    "solver = BiCGMethod(matrix, b, eps=1e-5)\n",
    "solver.print_solution()"
   ]
  },
  {
   "cell_type": "markdown",
   "metadata": {},
   "source": [
    "### Вывод\n",
    "В ходе данной лабораторной работы был изучен алгоритм бисопряженных градиентов. Этот алгоритм хорошо зарекомендовал себя для решения систем линейных алгебраический уравнений, поскольку обладает некоторыми важными свойствами: он численно устойчив; не меняется вид матрицы в процессе решения; эффективен для решения систем большой размерности с разреженной матрицей, поскольку в методе самая трудоемкая операция - умножение матрицы на вектор; применим для решения систем с несимметричными матрицами. Вычислительная мощность:  N/4"
   ]
  }
 ],
 "metadata": {
  "kernelspec": {
   "display_name": "Python 3",
   "language": "python",
   "name": "python3"
  },
  "language_info": {
   "codemirror_mode": {
    "name": "ipython",
    "version": 3
   },
   "file_extension": ".py",
   "mimetype": "text/x-python",
   "name": "python",
   "nbconvert_exporter": "python",
   "pygments_lexer": "ipython3",
   "version": "3.7.2"
  }
 },
 "nbformat": 4,
 "nbformat_minor": 4
}
