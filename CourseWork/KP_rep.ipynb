{
 "cells": [
  {
   "cell_type": "markdown",
   "metadata": {},
   "source": [
    "# Курсовой проект по дисциплине \"Численные методы\"\n",
    "# Тема: \"Метод бисопряженных градиентов.\"\n",
    "\n",
    "## Подготовила студентка группы М8О-307 Алексюнина Юлия\n",
    "## Руководитель: Ревизников Д.Л."
   ]
  },
  {
   "cell_type": "markdown",
   "metadata": {},
   "source": [
    "### Постановка задачи\n",
    "\n",
    "Реализовать решение систем линейных алгебраических уравнений с \n",
    "несимметричными разреженными матрицами большой размерности методом бисопряженных градиентов.\n"
   ]
  },
  {
   "cell_type": "markdown",
   "metadata": {},
   "source": [
    "### Описание метода\n",
    "\n",
    "    Создадим случайную матрицу, поставим плотность (density) = 0.6, таким образом, наша матрица будет на 40% состоять из нулей. Остальные значения будут находиться в диапазоне от 0 до 1. Можно выбрать размер матрицы от 4 до n.\n",
    "\n",
    "    Рассмотрим СЛАУ с вещественными коэффициентами(Ax=b). В основу алгоритма ложится идея проекционного метода и использование свойства A-бисопряженности системы векторов, а именно: векторы  p – невязки бисопряжённые, если скалярные произведения (Api,pj)=0, (Api,pj)=0. Фактически, данное условие эквивалентно биортогональности относительно энергетического скалярного произведения.\n",
    "    \n",
    "    Общая концепция проекционных методов предписывает нам выбрать два подпространства. В нашем случае подпространства мы выберем два подпространства, задаваемые матрицей системы А, вектором невязки на нулевой итерации.\n",
    "\n",
    "    Метод основан на построении биортогонального базиса p пространства  K_k(A,r0) K_k(A,r0) и вычислении поправки такой, что новое приближение на очередной итерации было бы ортогонально второму подпространству Крылова. Базисные вектора строятся до тех пор, пока не будет достигнут критерий остановки итерационного процесса, а каждое последующее приближение формируется, как сумма приближения на предыдущей итерации и найденной поправки. \n",
    "    \n",
    "    Критерием останова итерационного процесса является достижение невязкой значения, которое меньше некоторого наперед заданного эпсилон.\n"
   ]
  },
  {
   "cell_type": "markdown",
   "metadata": {},
   "source": [
    "### Решение\n",
    "\n",
    "#### Генерация матрицы. \n",
    "Импортируем необходимые библиотеки.\n"
   ]
  },
  {
   "cell_type": "code",
   "execution_count": 80,
   "metadata": {},
   "outputs": [],
   "source": [
    "import numpy as np\n",
    "from random import randint\n",
    "from scipy.sparse import rand\n",
    "import numpy as np\n",
    "from numpy.linalg import norm\n",
    "from scipy.sparse import diags, csc_matrix\n",
    "from scipy.sparse.linalg import bicgstab, spilu "
   ]
  },
  {
   "cell_type": "markdown",
   "metadata": {},
   "source": [
    "Сгенерируем матрицу заданного размера с плотностью 0.6 и вектор правой части."
   ]
  },
  {
   "cell_type": "code",
   "execution_count": 81,
   "metadata": {},
   "outputs": [
    {
     "name": "stdout",
     "output_type": "stream",
     "text": [
      "5\n",
      "0.958  0.0  0.553  0.855  0.032  \n",
      "\n",
      "0.615  0.854  0.0  0.0  0.0  \n",
      "\n",
      "0.0  0.735  0.0  0.0  0.0  \n",
      "\n",
      "0.078  0.424  0.0  0.774  0.706  \n",
      "\n",
      "0.548  0.876  0.475  0.954  0.0  \n",
      "\n",
      "\n",
      "\n",
      "48  5  39  45  27  \n",
      "\n",
      "<class 'scipy.sparse.coo.coo_matrix'>\n"
     ]
    }
   ],
   "source": [
    "shape = int(input())\n",
    "if shape < 3:\n",
    "        exit()\n",
    "\n",
    "matrix = rand(shape, shape, density=0.6, random_state=randint(112, 154))\n",
    "\n",
    "\n",
    "for i in matrix.toarray().round(3):\n",
    "    for j in i:\n",
    "        print(f'{j} ', end=\" \")\n",
    "    print('\\n')\n",
    "print('\\n')\n",
    "b = np.random.randint(5, 53, shape)\n",
    "for i in b:\n",
    "    print(f'{i} ', end=\" \")\n",
    "print('\\n')\n",
    "print(type(matrix))"
   ]
  },
  {
   "cell_type": "markdown",
   "metadata": {},
   "source": [
    "#### Реализация алгоритма"
   ]
  },
  {
   "cell_type": "markdown",
   "metadata": {},
   "source": [
    "![Алгоритм](https://sun9-31.userapi.com/impf/eB8P4H6U7fR28U9YD9XuwvE1emlksS9FQhuEfg/zalHp3WbPW0.jpg?size=370x441&quality=96&proxy=1&sign=dc07ec63bc662226176c3a6a42efafc0)"
   ]
  },
  {
   "cell_type": "markdown",
   "metadata": {},
   "source": [
    "Критерий остановки итерационного процесса: норма заданной невязки меньше эпсилон."
   ]
  },
  {
   "cell_type": "markdown",
   "metadata": {},
   "source": [
    "Представим исходную матрицу в виде сжатой матрицы разреженных столбцов."
   ]
  },
  {
   "cell_type": "code",
   "execution_count": 82,
   "metadata": {},
   "outputs": [],
   "source": [
    "matrix = matrix.toarray().tolist()"
   ]
  },
  {
   "cell_type": "code",
   "execution_count": 85,
   "metadata": {},
   "outputs": [
    {
     "ename": "ValueError",
     "evalue": "too many values to unpack (expected 2)",
     "output_type": "error",
     "traceback": [
      "\u001b[1;31m---------------------------------------------------------------------------\u001b[0m",
      "\u001b[1;31mValueError\u001b[0m                                Traceback (most recent call last)",
      "\u001b[1;32m<ipython-input-85-b59e09d3b133>\u001b[0m in \u001b[0;36m<module>\u001b[1;34m\u001b[0m\n\u001b[0;32m      1\u001b[0m \u001b[0mmatrix\u001b[0m\u001b[1;33m[\u001b[0m\u001b[1;36m0\u001b[0m\u001b[1;33m]\u001b[0m\u001b[1;33m.\u001b[0m\u001b[0minsert\u001b[0m\u001b[1;33m(\u001b[0m\u001b[1;36m0\u001b[0m\u001b[1;33m,\u001b[0m \u001b[1;36m0\u001b[0m\u001b[1;33m)\u001b[0m\u001b[1;33m\u001b[0m\u001b[1;33m\u001b[0m\u001b[0m\n\u001b[0;32m      2\u001b[0m \u001b[0mmatrix\u001b[0m\u001b[1;33m[\u001b[0m\u001b[1;33m-\u001b[0m\u001b[1;36m1\u001b[0m\u001b[1;33m]\u001b[0m\u001b[1;33m.\u001b[0m\u001b[0mappend\u001b[0m\u001b[1;33m(\u001b[0m\u001b[1;36m0\u001b[0m\u001b[1;33m)\u001b[0m\u001b[1;33m\u001b[0m\u001b[1;33m\u001b[0m\u001b[0m\n\u001b[1;32m----> 3\u001b[1;33m \u001b[0ma\u001b[0m\u001b[1;33m,\u001b[0m \u001b[0mb\u001b[0m \u001b[1;33m=\u001b[0m \u001b[0mzip\u001b[0m\u001b[1;33m(\u001b[0m\u001b[1;33m*\u001b[0m\u001b[0mmatrix\u001b[0m\u001b[1;33m)\u001b[0m\u001b[1;33m\u001b[0m\u001b[1;33m\u001b[0m\u001b[0m\n\u001b[0m\u001b[0;32m      4\u001b[0m \u001b[0mprint\u001b[0m\u001b[1;33m(\u001b[0m\u001b[0ma\u001b[0m\u001b[1;33m,\u001b[0m \u001b[0mb\u001b[0m\u001b[1;33m)\u001b[0m\u001b[1;33m\u001b[0m\u001b[1;33m\u001b[0m\u001b[0m\n\u001b[0;32m      5\u001b[0m \u001b[1;31m# matrix = diags([a[1:], b, c[:-1]], [-1, 0, 1])\u001b[0m\u001b[1;33m\u001b[0m\u001b[1;33m\u001b[0m\u001b[1;33m\u001b[0m\u001b[0m\n",
      "\u001b[1;31mValueError\u001b[0m: too many values to unpack (expected 2)"
     ]
    }
   ],
   "source": [
    "matrix[0].insert(0, 0)\n",
    "matrix[-1].append(0)\n",
    "a, b = zip(*matrix)\n",
    "print(a, b)\n",
    "# matrix = diags([a[1:], b, c[:-1]], [-1, 0, 1])\n",
    "print(matrix)\n"
   ]
  },
  {
   "cell_type": "markdown",
   "metadata": {},
   "source": [
    "Создадим класс BiCGMethod, в котором реализуем несколько методов. \n",
    "    __init__ - для инициализации необходимых данных;\n",
    "    solve - подготовка перед итерационным процессом и сам процесс решения;\n",
    "    print_solution - печать результата и сравнение его с решением при помощи функций встроенной библиотеки Numpy"
   ]
  },
  {
   "cell_type": "code",
   "execution_count": 44,
   "metadata": {},
   "outputs": [],
   "source": [
    "class BiCGMethod:\n",
    "    def __init__(self, matrix, b, x0=None, eps=1e-5):\n",
    "        self.matrix = matrix\n",
    "        self.b = b\n",
    "        self.eps = eps\n",
    "        self.shape = matrix.shape[0]\n",
    "        self.x0 = np.array([0] * self.shape) if x0 is None else x0\n",
    "        self.k = 0\n",
    "        \n",
    "    def solve(self):\n",
    "        r0 = self.b - self.matrix @ self.x0 # невязка\n",
    "        x0 = self.x0 # начальное приближение\n",
    "        r2 = r0 # выбирается вектор\n",
    "        rho0 = 1\n",
    "        alpha0 = 1\n",
    "        omega0 = 1\n",
    "        v0 = np.array([0] * self.shape)\n",
    "        p0 = np.array([0] * self.shape)\n",
    "        while True:\n",
    "            rho = r2 @ r0\n",
    "            beta = (rho * alpha0) / (rho0 * omega0)\n",
    "            p = r0 + beta * (p0 - omega0 * v0)\n",
    "            v = self.matrix @ p\n",
    "            alpha = rho / (r2 @ v)\n",
    "            s = r0 - alpha * v\n",
    "            t = self.matrix @ s\n",
    "            omega = (t @ s) / (t @ t)\n",
    "            x = x0 + omega * s + alpha * p\n",
    "            r = s - omega * t\n",
    "\n",
    "\n",
    "            self.k += 1\n",
    "            if norm(r) < self.eps: # норма заданной невязки\n",
    "                break\n",
    "            r0 = r\n",
    "            rho0 = rho\n",
    "            alpha0 = alpha\n",
    "            omega0 = omega\n",
    "            v0 = v\n",
    "            p0 = p\n",
    "            x0 = x\n",
    "        return x\n",
    "    \n",
    "    def print_solution(self):\n",
    "        x = self.solve()\n",
    "        x2 = np.linalg.solve(self.matrix.toarray(), self.b)\n",
    "        # with open(self.output, 'w') as f:\n",
    "        print('My solve:\\n')\n",
    "        print(f'{x.round(5)}\\n')\n",
    "        print(f'EPS = {self.eps}\\n')\n",
    "        print(f'Shape = {self.shape}\\n')\n",
    "        print(f'Count of iterations = {self.k}\\n')\n",
    "        # print(f'Mean = {np.mean(x)}\\n') # среднее\n",
    "        print('\\nNumPy solve:\\n')\n",
    "        print(f'{x2.round(5)}\\n')\n",
    "        # print(f'Mean = {np.mean(x2)}\\n')\n"
   ]
  },
  {
   "cell_type": "markdown",
   "metadata": {},
   "source": [
    "Наконец, сделаем расчет."
   ]
  },
  {
   "cell_type": "code",
   "execution_count": 45,
   "metadata": {},
   "outputs": [
    {
     "name": "stdout",
     "output_type": "stream",
     "text": [
      "My solve:\n",
      "\n",
      "[-185.70229   54.64845  -71.99917  384.62519  -58.97817]\n",
      "\n",
      "EPS = 1e-05\n",
      "\n",
      "Shape = 5\n",
      "\n",
      "Count of iterations = 5\n",
      "\n",
      "Mean = 24.518799895101598\n",
      "\n",
      "\n",
      "NumPy solve:\n",
      "\n",
      "[-185.70229   54.64845  -71.99917  384.62519  -58.97817]\n",
      "\n",
      "Mean = 24.518799899804115\n",
      "\n"
     ]
    }
   ],
   "source": [
    "solver = BiCGMethod(matrix, b, eps=1e-5)\n",
    "solver.print_solution()"
   ]
  },
  {
   "cell_type": "markdown",
   "metadata": {},
   "source": [
    "### Вывод\n",
    "В ходе данной лабораторной работы был изучен алгоритм бисопряженных градиентов. Этот алгоритм хорошо зарекомендовал себя для решения систем линейных алгебраический уравнений, поскольку обладает некоторыми важными свойствами: он численно устойчив; не меняется вид матрицы в процессе решения; эффективен для решения систем большой размерности с разреженной матрицей, поскольку в методе самая трудоемкая операция - умножение матрицы на вектор; применим для решения систем с несимметричными матрицами. Вычислительная мощность:  N/4"
   ]
  }
 ],
 "metadata": {
  "kernelspec": {
   "display_name": "Python 3",
   "language": "python",
   "name": "python3"
  },
  "language_info": {
   "codemirror_mode": {
    "name": "ipython",
    "version": 3
   },
   "file_extension": ".py",
   "mimetype": "text/x-python",
   "name": "python",
   "nbconvert_exporter": "python",
   "pygments_lexer": "ipython3",
   "version": "3.7.2"
  }
 },
 "nbformat": 4,
 "nbformat_minor": 4
}
